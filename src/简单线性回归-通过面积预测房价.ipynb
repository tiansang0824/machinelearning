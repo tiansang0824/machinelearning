{
 "cells": [
  {
   "cell_type": "code",
   "id": "initial_id",
   "metadata": {
    "collapsed": true,
    "ExecuteTime": {
     "end_time": "2024-05-11T03:19:17.778424Z",
     "start_time": "2024-05-11T03:19:17.771294Z"
    }
   },
   "source": [
    "import math, copy\n",
    "import numpy as np\n"
   ],
   "outputs": [],
   "execution_count": 20
  },
  {
   "metadata": {
    "ExecuteTime": {
     "end_time": "2024-05-11T03:19:17.854268Z",
     "start_time": "2024-05-11T03:19:17.847981Z"
    }
   },
   "cell_type": "code",
   "source": [
    "# 加载训练数据\n",
    "x_train = np.array([1.0, 2.0])  #features\n",
    "y_train = np.array([300.0, 500.0])  #target value"
   ],
   "id": "98b614683a9c2c73",
   "outputs": [],
   "execution_count": 21
  },
  {
   "metadata": {},
   "cell_type": "markdown",
   "source": "定义一个代价计算函数",
   "id": "49507662ca9d9bd0"
  },
  {
   "metadata": {
    "ExecuteTime": {
     "end_time": "2024-05-11T03:19:17.875834Z",
     "start_time": "2024-05-11T03:19:17.868349Z"
    }
   },
   "cell_type": "code",
   "source": [
    "def compute_cost(x, y, w, b):\n",
    "    m = x.shape[0]\n",
    "    cost = 0\n",
    "\n",
    "    for i in range(m):\n",
    "        f_wb = w * x[i] + b\n",
    "        cost = cost + (f_wb - y[i]) ** 2\n",
    "    total_cost = cost / (2 * m)\n",
    "\n",
    "    return total_cost"
   ],
   "id": "a7d5f96b4db0a788",
   "outputs": [],
   "execution_count": 22
  },
  {
   "metadata": {},
   "cell_type": "markdown",
   "source": "定义偏导数计算函数",
   "id": "573841aa067e6029"
  },
  {
   "metadata": {
    "ExecuteTime": {
     "end_time": "2024-05-11T03:19:17.883963Z",
     "start_time": "2024-05-11T03:19:17.876411Z"
    }
   },
   "cell_type": "code",
   "source": [
    "def compute_gradient(x, y, w, b):\n",
    "    # 首先要知道样本数目\n",
    "    m = x.shape[0]\n",
    "    dj_dw = 0\n",
    "    dj_db = 0\n",
    "    # 针对每个样本计算两个偏导数\n",
    "    for i in range(m):\n",
    "        f_wb = w * x[i] + b\n",
    "        tmp_dj_dw = (f_wb - y[i]) * x[i]\n",
    "        tmp_dj_db = f_wb - y[i]\n",
    "        dj_dw = dj_dw + tmp_dj_dw\n",
    "        dj_db = dj_db + tmp_dj_db\n",
    "    dj_dw /= m\n",
    "    dj_db /= m\n",
    "\n",
    "    return dj_dw, dj_db"
   ],
   "id": "4916c6fc8b9aa67b",
   "outputs": [],
   "execution_count": 23
  },
  {
   "metadata": {},
   "cell_type": "markdown",
   "source": "定义梯度下降函数，用于寻找最小的w和b",
   "id": "5aa1acabca2dcc41"
  },
  {
   "metadata": {
    "ExecuteTime": {
     "end_time": "2024-05-11T03:19:17.891400Z",
     "start_time": "2024-05-11T03:19:17.883963Z"
    }
   },
   "cell_type": "code",
   "source": [
    "def gradient_descent(x, y, w_in, b_in, alpha, num_iter, cost_function, gradient_function):\n",
    "    # 深度拷贝w\n",
    "    w = copy.deepcopy(w_in)\n",
    "    # 拷贝和初始化其他值\n",
    "    b = b_in\n",
    "    j_history = []  # 保存代价历史\n",
    "    p_history = []  # 保存参数历史\n",
    "\n",
    "    for i in range(num_iter):\n",
    "        dj_dw, dj_db = gradient_function(x, y, w, b)\n",
    "        w = w - alpha * dj_dw\n",
    "        b = b - alpha * dj_db\n",
    "\n",
    "        if i < 100000:\n",
    "            j_history.append(cost_function(x, y, w, b))\n",
    "            p_history.append([w, b])\n",
    "\n",
    "        if i % math.ceil(num_iter / 10) == 0:\n",
    "            print(f\"Iteration {i:4}: Cost {j_history[-1]:0.2e} \",\n",
    "                  f\"dj_dw: {dj_dw: 0.3e}, dj_db: {dj_db: 0.3e}  \",\n",
    "                  f\"w: {w: 0.3e}, b:{b: 0.5e}\")\n",
    "\n",
    "    return w, b, j_history, p_history"
   ],
   "id": "3c3f70c97048cf36",
   "outputs": [],
   "execution_count": 24
  },
  {
   "metadata": {
    "ExecuteTime": {
     "end_time": "2024-05-11T03:19:22.816853Z",
     "start_time": "2024-05-11T03:19:22.759822Z"
    }
   },
   "cell_type": "code",
   "source": [
    "w_init = 0\n",
    "b_init = 0\n",
    "\n",
    "iterations = 10000\n",
    "tmp_alpha = 1.0e-2\n",
    "\n",
    "w_final, b_final, J_hist, p_hist = gradient_descent(x_train, y_train, w_init, b_init, tmp_alpha,\n",
    "                                                    iterations, compute_cost, compute_gradient)\n",
    "print(f\"(w,b) found by gradient descent: ({w_final:8.4f},{b_final:8.4f})\")"
   ],
   "id": "17887498fc74aeae",
   "outputs": [
    {
     "name": "stdout",
     "output_type": "stream",
     "text": [
      "Iteration    0: Cost 7.93e+04  dj_dw: -6.500e+02, dj_db: -4.000e+02   w:  6.500e+00, b: 4.00000e+00\n",
      "Iteration 1000: Cost 3.41e+00  dj_dw: -3.712e-01, dj_db:  6.007e-01   w:  1.949e+02, b: 1.08228e+02\n",
      "Iteration 2000: Cost 7.93e-01  dj_dw: -1.789e-01, dj_db:  2.895e-01   w:  1.975e+02, b: 1.03966e+02\n",
      "Iteration 3000: Cost 1.84e-01  dj_dw: -8.625e-02, dj_db:  1.396e-01   w:  1.988e+02, b: 1.01912e+02\n",
      "Iteration 4000: Cost 4.28e-02  dj_dw: -4.158e-02, dj_db:  6.727e-02   w:  1.994e+02, b: 1.00922e+02\n",
      "Iteration 5000: Cost 9.95e-03  dj_dw: -2.004e-02, dj_db:  3.243e-02   w:  1.997e+02, b: 1.00444e+02\n",
      "Iteration 6000: Cost 2.31e-03  dj_dw: -9.660e-03, dj_db:  1.563e-02   w:  1.999e+02, b: 1.00214e+02\n",
      "Iteration 7000: Cost 5.37e-04  dj_dw: -4.657e-03, dj_db:  7.535e-03   w:  1.999e+02, b: 1.00103e+02\n",
      "Iteration 8000: Cost 1.25e-04  dj_dw: -2.245e-03, dj_db:  3.632e-03   w:  2.000e+02, b: 1.00050e+02\n",
      "Iteration 9000: Cost 2.90e-05  dj_dw: -1.082e-03, dj_db:  1.751e-03   w:  2.000e+02, b: 1.00024e+02\n",
      "(w,b) found by gradient descent: (199.9929,100.0116)\n"
     ]
    }
   ],
   "execution_count": 27
  },
  {
   "metadata": {
    "ExecuteTime": {
     "end_time": "2024-05-11T08:32:59.765981Z",
     "start_time": "2024-05-11T08:32:59.759750Z"
    }
   },
   "cell_type": "code",
   "source": "",
   "id": "b24b5f836037786d",
   "outputs": [],
   "execution_count": 29
  },
  {
   "metadata": {},
   "cell_type": "code",
   "outputs": [],
   "execution_count": null,
   "source": "",
   "id": "33afc7ef01cad677"
  }
 ],
 "metadata": {
  "kernelspec": {
   "display_name": "Python 3",
   "language": "python",
   "name": "python3"
  },
  "language_info": {
   "codemirror_mode": {
    "name": "ipython",
    "version": 2
   },
   "file_extension": ".py",
   "mimetype": "text/x-python",
   "name": "python",
   "nbconvert_exporter": "python",
   "pygments_lexer": "ipython2",
   "version": "2.7.6"
  }
 },
 "nbformat": 4,
 "nbformat_minor": 5
}
