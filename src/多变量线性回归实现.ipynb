{
 "cells": [
  {
   "metadata": {},
   "cell_type": "markdown",
   "source": "# 多变量线性回归",
   "id": "bc815c97353faa67"
  },
  {
   "metadata": {
    "ExecuteTime": {
     "end_time": "2024-05-11T08:40:25.343928Z",
     "start_time": "2024-05-11T08:40:25.340441Z"
    }
   },
   "cell_type": "code",
   "source": [
    "import copy, math\n",
    "import numpy as np"
   ],
   "id": "85218335faed1e27",
   "outputs": [],
   "execution_count": 33
  },
  {
   "metadata": {},
   "cell_type": "markdown",
   "source": [
    "这个案例中的训练数据如下：\n",
    "\n",
    "| Size (sqft) | Number of Bedrooms  | Number of floors | Age of  Home | Price (1000s dollars)  |   \n",
    "| ----------------| ------------------- |----------------- |--------------|-------------- |  \n",
    "| 2104            | 5                   | 1                | 45           | 460           |  \n",
    "| 1416            | 3                   | 2                | 40           | 232           |  \n",
    "| 852             | 2                   | 1                | 35           | 178           |  \n",
    "\n",
    "下面是用numpy数组的形式存储的训练数据。"
   ],
   "id": "79e462f796cc3ab9"
  },
  {
   "metadata": {
    "ExecuteTime": {
     "end_time": "2024-05-11T08:40:25.394520Z",
     "start_time": "2024-05-11T08:40:25.389680Z"
    }
   },
   "cell_type": "code",
   "source": [
    "# 训练数据\n",
    "x_train = np.array([[2104, 5, 1, 45], [1416, 3, 2, 40], [852, 2, 1, 35]])\n",
    "y_train = np.array([460, 232, 178])"
   ],
   "id": "bd406ad7cc34daf2",
   "outputs": [],
   "execution_count": 34
  },
  {
   "metadata": {
    "ExecuteTime": {
     "end_time": "2024-05-11T08:40:25.402159Z",
     "start_time": "2024-05-11T08:40:25.396633Z"
    }
   },
   "cell_type": "code",
   "source": [
    "# 输出测试数据\n",
    "print(f\"X Shape: {x_train.shape}, X Type:{type(x_train)})\")\n",
    "print(x_train)\n",
    "print(f\"y Shape: {y_train.shape}, y Type:{type(y_train)})\")\n",
    "print(y_train)"
   ],
   "id": "c9ee7e799e3f1582",
   "outputs": [
    {
     "name": "stdout",
     "output_type": "stream",
     "text": [
      "X Shape: (3, 4), X Type:<class 'numpy.ndarray'>)\n",
      "[[2104    5    1   45]\n",
      " [1416    3    2   40]\n",
      " [ 852    2    1   35]]\n",
      "y Shape: (3,), y Type:<class 'numpy.ndarray'>)\n",
      "[460 232 178]\n"
     ]
    }
   ],
   "execution_count": 35
  },
  {
   "metadata": {
    "ExecuteTime": {
     "end_time": "2024-05-11T08:40:25.407542Z",
     "start_time": "2024-05-11T08:40:25.403705Z"
    }
   },
   "cell_type": "code",
   "source": [
    "# 利用向量点乘来预测模型的值\n",
    "def predict(x, w, b):\n",
    "    p = np.dot(x, w) + b\n",
    "    return p"
   ],
   "id": "2a4c3cbbcd90590a",
   "outputs": [],
   "execution_count": 36
  },
  {
   "metadata": {
    "ExecuteTime": {
     "end_time": "2024-05-11T08:40:25.417026Z",
     "start_time": "2024-05-11T08:40:25.411762Z"
    }
   },
   "cell_type": "code",
   "source": [
    "b_init = 785.1811367994083\n",
    "w_init = np.array([0.39133535, 18.75376741, -53.36032453, -26.42131618])\n",
    "print(f\"w_init shape: {w_init.shape}, b_init type: {type(b_init)}\")\n",
    "\n",
    "# 输出和测试一组训练样本\n",
    "x_vec = x_train[0, :]\n",
    "print(f\"x_vec shape {x_vec.shape}, x_vec value: {x_vec}\")\n",
    "\n",
    "# make a prediction\n",
    "f_wb = predict(x_vec, w_init, b_init)\n",
    "print(f\"f_wb shape {f_wb.shape}, prediction: {f_wb}\")"
   ],
   "id": "5fe6f68bb7461545",
   "outputs": [
    {
     "name": "stdout",
     "output_type": "stream",
     "text": [
      "w_init shape: (4,), b_init type: <class 'float'>\n",
      "x_vec shape (4,), x_vec value: [2104    5    1   45]\n",
      "f_wb shape (), prediction: 459.9999976194083\n"
     ]
    }
   ],
   "execution_count": 37
  },
  {
   "metadata": {
    "ExecuteTime": {
     "end_time": "2024-05-11T08:40:25.440337Z",
     "start_time": "2024-05-11T08:40:25.436067Z"
    }
   },
   "cell_type": "code",
   "source": [
    "# 计算代价\n",
    "def compute_cost(x, y, w, b):\n",
    "    m = x.shape[0]  # 特征的数量\n",
    "    cost = 0.0\n",
    "    for i in range(m):\n",
    "        f_wb_i = np.dot(x[i], w) + b\n",
    "        cost = cost + (f_wb_i - y[i]) ** 2\n",
    "    cost = cost / (2 * m)\n",
    "    return cost\n"
   ],
   "id": "8e5645779e443441",
   "outputs": [],
   "execution_count": 38
  },
  {
   "metadata": {
    "ExecuteTime": {
     "end_time": "2024-05-11T08:40:25.457415Z",
     "start_time": "2024-05-11T08:40:25.453123Z"
    }
   },
   "cell_type": "code",
   "source": [
    "cost = compute_cost(x_train, y_train, w_init, b_init)\n",
    "print(f\"Cost: {cost}\")"
   ],
   "id": "3afc540084af8a1d",
   "outputs": [
    {
     "name": "stdout",
     "output_type": "stream",
     "text": [
      "Cost: 1.5578904045996674e-12\n"
     ]
    }
   ],
   "execution_count": 39
  },
  {
   "metadata": {
    "ExecuteTime": {
     "end_time": "2024-05-11T08:40:25.464297Z",
     "start_time": "2024-05-11T08:40:25.459633Z"
    }
   },
   "cell_type": "code",
   "source": [
    "# 计算梯度\n",
    "def compute_gradient(x, y, w, b):\n",
    "    m, n = x.shape  # m是特征的数量，n是参数w的数量\n",
    "    dj_dw = np.zeros((n,))  # 有n个w，所以dj_dw有n个元素，全部初始化为0\n",
    "    dj_db = 0.0  # 初始化dj_db为0\n",
    "\n",
    "    for i in range(m):  # 第一层循环是针对每一个特征x来计算的\n",
    "        err = (np.dot(x[i], w) + b) - y[i]\n",
    "        for j in range(n):  # 第二层循环是针对每一个参数w计算的\n",
    "            dj_dw[j] = dj_dw[j] + err * x[i, j]\n",
    "        dj_db = dj_db + err\n",
    "    dj_dw = dj_dw / m\n",
    "    dj_db = dj_db / m\n",
    "\n",
    "    return dj_db, dj_dw\n"
   ],
   "id": "aeec7e40ceb741c2",
   "outputs": [],
   "execution_count": 40
  },
  {
   "metadata": {
    "ExecuteTime": {
     "end_time": "2024-05-11T08:40:25.490114Z",
     "start_time": "2024-05-11T08:40:25.484785Z"
    }
   },
   "cell_type": "code",
   "source": [
    "# 试着计算一下在初始化位置的梯度\n",
    "tmp_dj_db, tmp_dj_dw = compute_gradient(x_train, y_train, w_init, b_init)\n",
    "print(f'dj_db at initial w,b: {tmp_dj_db}')\n",
    "print(f'dj_dw at initial w,b: \\n {tmp_dj_dw}')"
   ],
   "id": "659f150bb6168fa0",
   "outputs": [
    {
     "name": "stdout",
     "output_type": "stream",
     "text": [
      "dj_db at initial w,b: -1.6739251122999121e-06\n",
      "dj_dw at initial w,b: \n",
      " [-2.72623574e-03 -6.27197255e-06 -2.21745574e-06 -6.92403377e-05]\n"
     ]
    }
   ],
   "execution_count": 41
  },
  {
   "metadata": {
    "ExecuteTime": {
     "end_time": "2024-05-11T08:43:09.712477Z",
     "start_time": "2024-05-11T08:43:09.706189Z"
    }
   },
   "cell_type": "code",
   "source": [
    "# 实现算法\n",
    "def gradient_descent(x, y, w_in, b_in, alpha, num_iters, cost_function, gradient_function):\n",
    "    j_history = []\n",
    "    w = copy.deepcopy(w_in)\n",
    "    b = b_in\n",
    "\n",
    "    for i in range(num_iters):\n",
    "        # 第一步计算梯度\n",
    "        dj_db, dj_dw = gradient_function(x, y, w, b)\n",
    "        # 第二步更新数据\n",
    "        w = w - alpha * dj_dw\n",
    "        b = b - alpha * dj_db\n",
    "\n",
    "        if i < 10000:\n",
    "            j_history.append(cost_function(x, y, w, b))\n",
    "\n",
    "        if i % math.ceil(num_iters / 10) == 0:\n",
    "            print(f\"Iteration {i:4d}: Cost {j_history[-1]:8.2f}   \")\n",
    "\n",
    "    return w, b, j_history"
   ],
   "id": "92820173e5f978f6",
   "outputs": [],
   "execution_count": 44
  },
  {
   "metadata": {
    "ExecuteTime": {
     "end_time": "2024-05-11T08:43:11.105439Z",
     "start_time": "2024-05-11T08:43:11.068608Z"
    }
   },
   "cell_type": "code",
   "source": [
    "# initialize parameters\n",
    "initial_w = np.zeros_like(w_init)\n",
    "initial_b = 0.\n",
    "# some gradient descent settings\n",
    "iterations = 1000\n",
    "alpha = 5.0e-7\n",
    "# run gradient descent \n",
    "w_final, b_final, J_hist = gradient_descent(x_train, y_train, initial_w, initial_b,\n",
    "                                            alpha, iterations, compute_cost, compute_gradient)\n",
    "print(f\"b,w found by gradient descent: {b_final:0.2f},{w_final} \")\n",
    "m, _ = x_train.shape\n",
    "for i in range(m):\n",
    "    print(f\"prediction: {np.dot(x_train[i], w_final) + b_final:0.2f}, target value: {y_train[i]}\")"
   ],
   "id": "cdec7bcd8bdc5b63",
   "outputs": [
    {
     "name": "stdout",
     "output_type": "stream",
     "text": [
      "Iteration    0: Cost  2529.46   \n",
      "Iteration  100: Cost   695.99   \n",
      "Iteration  200: Cost   694.92   \n",
      "Iteration  300: Cost   693.86   \n",
      "Iteration  400: Cost   692.81   \n",
      "Iteration  500: Cost   691.77   \n",
      "Iteration  600: Cost   690.73   \n",
      "Iteration  700: Cost   689.71   \n",
      "Iteration  800: Cost   688.70   \n",
      "Iteration  900: Cost   687.69   \n",
      "b,w found by gradient descent: -0.00,[ 0.20396569  0.00374919 -0.0112487  -0.0658614 ] \n",
      "prediction: 426.19, target value: 460\n",
      "prediction: 286.17, target value: 232\n",
      "prediction: 171.47, target value: 178\n"
     ]
    }
   ],
   "execution_count": 45
  }
 ],
 "metadata": {
  "kernelspec": {
   "display_name": "Python 3",
   "language": "python",
   "name": "python3"
  },
  "language_info": {
   "codemirror_mode": {
    "name": "ipython",
    "version": 2
   },
   "file_extension": ".py",
   "mimetype": "text/x-python",
   "name": "python",
   "nbconvert_exporter": "python",
   "pygments_lexer": "ipython2",
   "version": "2.7.6"
  }
 },
 "nbformat": 4,
 "nbformat_minor": 5
}
